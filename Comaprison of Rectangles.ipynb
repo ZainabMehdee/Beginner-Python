{
 "metadata": {
  "language_info": {
   "codemirror_mode": {
    "name": "ipython",
    "version": 3
   },
   "file_extension": ".py",
   "mimetype": "text/x-python",
   "name": "python",
   "nbconvert_exporter": "python",
   "pygments_lexer": "ipython3",
   "version": "3.9.1-final"
  },
  "orig_nbformat": 2,
  "kernelspec": {
   "name": "python3",
   "display_name": "Python 3.9.1 64-bit",
   "metadata": {
    "interpreter": {
     "hash": "38740d3277777e2cd7c6c2cc9d8addf5118fdf3f82b1b39231fd12aeac8aee8b"
    }
   }
  }
 },
 "nbformat": 4,
 "nbformat_minor": 2,
 "cells": [
  {
   "cell_type": "code",
   "execution_count": 4,
   "metadata": {},
   "outputs": [],
   "source": [
    "#  Get length and width of the first rectangle."
   ]
  },
  {
   "cell_type": "code",
   "execution_count": null,
   "metadata": {},
   "outputs": [],
   "source": [
    "length1 = float(input(\"Enter the length of the first rectangle: \"))\n",
    "width1 = float(input(\"Enter the length of first rectangle: \"))"
   ]
  },
  {
   "cell_type": "code",
   "execution_count": null,
   "metadata": {},
   "outputs": [],
   "source": [
    "#Get length and width of the second rectangle\n",
    "length2 = float(input(\"Enter the length of second rectangle: \"))\n",
    "width2 = float(input(\"Enter the length of second rectangle: \"))"
   ]
  },
  {
   "cell_type": "code",
   "execution_count": null,
   "metadata": {},
   "outputs": [],
   "source": [
    "#Calculate area of both rectangles\n",
    "area1 = length1 * width1\n",
    "area2 = length2 * width2"
   ]
  },
  {
   "cell_type": "code",
   "execution_count": null,
   "metadata": {},
   "outputs": [],
   "source": [
    "#Check if area of the first rectangle is greater than, less than or equal to the second rectangle\n",
    "if area1 < area2:\n",
    "    print(\"The first rectangle has a greater area\")\n",
    "\n",
    "elif area2 < area1:\n",
    "    print(\"The second rectangle has a greater area\")\n",
    "\n",
    "else:\n",
    "    print(\"The areas of the two rectangles are equal\")"
   ]
  }
 ]
}