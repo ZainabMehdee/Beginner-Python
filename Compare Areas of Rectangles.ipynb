#  Get length and width of the first rectangle
length1 = float(input("Enter the length of the first rectangle: "))
width1 = float(input("Enter the length of first rectangle: "))

#Get length and width of the second rectangle
length2 = float(input("Enter the length of second rectangle: "))
width2 = float(input("Enter the length of second rectangle: "))

#Calculate area of both rectangles
area1 = length1 * width1
area2 = length2 * width2

#Check if area of the first rectangle is greater than, less than or equal to the second rectangle

if area1 < area2:
    print("The first rectangle has a greater area")

elif area2 < area1:
    print("The second rectangle has a greater area")

else:
    print("The areas of the two rectangles are equal")